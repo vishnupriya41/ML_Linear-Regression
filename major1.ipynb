{
  "nbformat": 4,
  "nbformat_minor": 0,
  "metadata": {
    "colab": {
      "provenance": [],
      "collapsed_sections": []
    },
    "kernelspec": {
      "name": "python3",
      "display_name": "Python 3"
    },
    "language_info": {
      "name": "python"
    }
  },
  "cells": [
    {
      "cell_type": "code",
      "execution_count": null,
      "metadata": {
        "id": "Gv-YZlDc93h7"
      },
      "outputs": [],
      "source": [
        "#Linear REgression\n",
        "#Dataset"
      ]
    },
    {
      "cell_type": "code",
      "source": [
        "#1.Create Dataframe\n",
        "import pandas as pd\n",
        "df = pd.read_csv('https://raw.githubusercontent.com/ameenmanna8824/DATASETS/main/heart_disease.csv')\n",
        "df"
      ],
      "metadata": {
        "colab": {
          "base_uri": "https://localhost:8080/",
          "height": 424
        },
        "id": "2HJR7FKL_qXD",
        "outputId": "517840aa-bb4a-4554-ec41-e6fe0115415c"
      },
      "execution_count": null,
      "outputs": [
        {
          "output_type": "execute_result",
          "data": {
            "text/plain": [
              "     Unnamed: 0  age  sex  cp  trestbps  chol  fbs  restecg  thalach  exang  \\\n",
              "0             0   63    1   3       145   233    1        0      150      0   \n",
              "1             1   37    1   2       130   250    0        1      187      0   \n",
              "2             2   41    0   1       130   204    0        0      172      0   \n",
              "3             3   56    1   1       120   236    0        1      178      0   \n",
              "4             4   57    0   0       120   354    0        1      163      1   \n",
              "..          ...  ...  ...  ..       ...   ...  ...      ...      ...    ...   \n",
              "298         298   57    0   0       140   241    0        1      123      1   \n",
              "299         299   45    1   3       110   264    0        1      132      0   \n",
              "300         300   68    1   0       144   193    1        1      141      0   \n",
              "301         301   57    1   0       130   131    0        1      115      1   \n",
              "302         302   57    0   1       130   236    0        0      174      0   \n",
              "\n",
              "     oldpeak  slope  ca  thal  target  \n",
              "0        2.3      0   0     1       1  \n",
              "1        3.5      0   0     2       1  \n",
              "2        1.4      2   0     2       1  \n",
              "3        0.8      2   0     2       1  \n",
              "4        0.6      2   0     2       1  \n",
              "..       ...    ...  ..   ...     ...  \n",
              "298      0.2      1   0     3       0  \n",
              "299      1.2      1   0     3       0  \n",
              "300      3.4      1   2     3       0  \n",
              "301      1.2      1   1     3       0  \n",
              "302      0.0      1   1     2       0  \n",
              "\n",
              "[303 rows x 15 columns]"
            ],
            "text/html": [
              "\n",
              "  <div id=\"df-54b646f9-888e-4dc9-9f64-5df2ef0ff0aa\">\n",
              "    <div class=\"colab-df-container\">\n",
              "      <div>\n",
              "<style scoped>\n",
              "    .dataframe tbody tr th:only-of-type {\n",
              "        vertical-align: middle;\n",
              "    }\n",
              "\n",
              "    .dataframe tbody tr th {\n",
              "        vertical-align: top;\n",
              "    }\n",
              "\n",
              "    .dataframe thead th {\n",
              "        text-align: right;\n",
              "    }\n",
              "</style>\n",
              "<table border=\"1\" class=\"dataframe\">\n",
              "  <thead>\n",
              "    <tr style=\"text-align: right;\">\n",
              "      <th></th>\n",
              "      <th>Unnamed: 0</th>\n",
              "      <th>age</th>\n",
              "      <th>sex</th>\n",
              "      <th>cp</th>\n",
              "      <th>trestbps</th>\n",
              "      <th>chol</th>\n",
              "      <th>fbs</th>\n",
              "      <th>restecg</th>\n",
              "      <th>thalach</th>\n",
              "      <th>exang</th>\n",
              "      <th>oldpeak</th>\n",
              "      <th>slope</th>\n",
              "      <th>ca</th>\n",
              "      <th>thal</th>\n",
              "      <th>target</th>\n",
              "    </tr>\n",
              "  </thead>\n",
              "  <tbody>\n",
              "    <tr>\n",
              "      <th>0</th>\n",
              "      <td>0</td>\n",
              "      <td>63</td>\n",
              "      <td>1</td>\n",
              "      <td>3</td>\n",
              "      <td>145</td>\n",
              "      <td>233</td>\n",
              "      <td>1</td>\n",
              "      <td>0</td>\n",
              "      <td>150</td>\n",
              "      <td>0</td>\n",
              "      <td>2.3</td>\n",
              "      <td>0</td>\n",
              "      <td>0</td>\n",
              "      <td>1</td>\n",
              "      <td>1</td>\n",
              "    </tr>\n",
              "    <tr>\n",
              "      <th>1</th>\n",
              "      <td>1</td>\n",
              "      <td>37</td>\n",
              "      <td>1</td>\n",
              "      <td>2</td>\n",
              "      <td>130</td>\n",
              "      <td>250</td>\n",
              "      <td>0</td>\n",
              "      <td>1</td>\n",
              "      <td>187</td>\n",
              "      <td>0</td>\n",
              "      <td>3.5</td>\n",
              "      <td>0</td>\n",
              "      <td>0</td>\n",
              "      <td>2</td>\n",
              "      <td>1</td>\n",
              "    </tr>\n",
              "    <tr>\n",
              "      <th>2</th>\n",
              "      <td>2</td>\n",
              "      <td>41</td>\n",
              "      <td>0</td>\n",
              "      <td>1</td>\n",
              "      <td>130</td>\n",
              "      <td>204</td>\n",
              "      <td>0</td>\n",
              "      <td>0</td>\n",
              "      <td>172</td>\n",
              "      <td>0</td>\n",
              "      <td>1.4</td>\n",
              "      <td>2</td>\n",
              "      <td>0</td>\n",
              "      <td>2</td>\n",
              "      <td>1</td>\n",
              "    </tr>\n",
              "    <tr>\n",
              "      <th>3</th>\n",
              "      <td>3</td>\n",
              "      <td>56</td>\n",
              "      <td>1</td>\n",
              "      <td>1</td>\n",
              "      <td>120</td>\n",
              "      <td>236</td>\n",
              "      <td>0</td>\n",
              "      <td>1</td>\n",
              "      <td>178</td>\n",
              "      <td>0</td>\n",
              "      <td>0.8</td>\n",
              "      <td>2</td>\n",
              "      <td>0</td>\n",
              "      <td>2</td>\n",
              "      <td>1</td>\n",
              "    </tr>\n",
              "    <tr>\n",
              "      <th>4</th>\n",
              "      <td>4</td>\n",
              "      <td>57</td>\n",
              "      <td>0</td>\n",
              "      <td>0</td>\n",
              "      <td>120</td>\n",
              "      <td>354</td>\n",
              "      <td>0</td>\n",
              "      <td>1</td>\n",
              "      <td>163</td>\n",
              "      <td>1</td>\n",
              "      <td>0.6</td>\n",
              "      <td>2</td>\n",
              "      <td>0</td>\n",
              "      <td>2</td>\n",
              "      <td>1</td>\n",
              "    </tr>\n",
              "    <tr>\n",
              "      <th>...</th>\n",
              "      <td>...</td>\n",
              "      <td>...</td>\n",
              "      <td>...</td>\n",
              "      <td>...</td>\n",
              "      <td>...</td>\n",
              "      <td>...</td>\n",
              "      <td>...</td>\n",
              "      <td>...</td>\n",
              "      <td>...</td>\n",
              "      <td>...</td>\n",
              "      <td>...</td>\n",
              "      <td>...</td>\n",
              "      <td>...</td>\n",
              "      <td>...</td>\n",
              "      <td>...</td>\n",
              "    </tr>\n",
              "    <tr>\n",
              "      <th>298</th>\n",
              "      <td>298</td>\n",
              "      <td>57</td>\n",
              "      <td>0</td>\n",
              "      <td>0</td>\n",
              "      <td>140</td>\n",
              "      <td>241</td>\n",
              "      <td>0</td>\n",
              "      <td>1</td>\n",
              "      <td>123</td>\n",
              "      <td>1</td>\n",
              "      <td>0.2</td>\n",
              "      <td>1</td>\n",
              "      <td>0</td>\n",
              "      <td>3</td>\n",
              "      <td>0</td>\n",
              "    </tr>\n",
              "    <tr>\n",
              "      <th>299</th>\n",
              "      <td>299</td>\n",
              "      <td>45</td>\n",
              "      <td>1</td>\n",
              "      <td>3</td>\n",
              "      <td>110</td>\n",
              "      <td>264</td>\n",
              "      <td>0</td>\n",
              "      <td>1</td>\n",
              "      <td>132</td>\n",
              "      <td>0</td>\n",
              "      <td>1.2</td>\n",
              "      <td>1</td>\n",
              "      <td>0</td>\n",
              "      <td>3</td>\n",
              "      <td>0</td>\n",
              "    </tr>\n",
              "    <tr>\n",
              "      <th>300</th>\n",
              "      <td>300</td>\n",
              "      <td>68</td>\n",
              "      <td>1</td>\n",
              "      <td>0</td>\n",
              "      <td>144</td>\n",
              "      <td>193</td>\n",
              "      <td>1</td>\n",
              "      <td>1</td>\n",
              "      <td>141</td>\n",
              "      <td>0</td>\n",
              "      <td>3.4</td>\n",
              "      <td>1</td>\n",
              "      <td>2</td>\n",
              "      <td>3</td>\n",
              "      <td>0</td>\n",
              "    </tr>\n",
              "    <tr>\n",
              "      <th>301</th>\n",
              "      <td>301</td>\n",
              "      <td>57</td>\n",
              "      <td>1</td>\n",
              "      <td>0</td>\n",
              "      <td>130</td>\n",
              "      <td>131</td>\n",
              "      <td>0</td>\n",
              "      <td>1</td>\n",
              "      <td>115</td>\n",
              "      <td>1</td>\n",
              "      <td>1.2</td>\n",
              "      <td>1</td>\n",
              "      <td>1</td>\n",
              "      <td>3</td>\n",
              "      <td>0</td>\n",
              "    </tr>\n",
              "    <tr>\n",
              "      <th>302</th>\n",
              "      <td>302</td>\n",
              "      <td>57</td>\n",
              "      <td>0</td>\n",
              "      <td>1</td>\n",
              "      <td>130</td>\n",
              "      <td>236</td>\n",
              "      <td>0</td>\n",
              "      <td>0</td>\n",
              "      <td>174</td>\n",
              "      <td>0</td>\n",
              "      <td>0.0</td>\n",
              "      <td>1</td>\n",
              "      <td>1</td>\n",
              "      <td>2</td>\n",
              "      <td>0</td>\n",
              "    </tr>\n",
              "  </tbody>\n",
              "</table>\n",
              "<p>303 rows × 15 columns</p>\n",
              "</div>\n",
              "      <button class=\"colab-df-convert\" onclick=\"convertToInteractive('df-54b646f9-888e-4dc9-9f64-5df2ef0ff0aa')\"\n",
              "              title=\"Convert this dataframe to an interactive table.\"\n",
              "              style=\"display:none;\">\n",
              "        \n",
              "  <svg xmlns=\"http://www.w3.org/2000/svg\" height=\"24px\"viewBox=\"0 0 24 24\"\n",
              "       width=\"24px\">\n",
              "    <path d=\"M0 0h24v24H0V0z\" fill=\"none\"/>\n",
              "    <path d=\"M18.56 5.44l.94 2.06.94-2.06 2.06-.94-2.06-.94-.94-2.06-.94 2.06-2.06.94zm-11 1L8.5 8.5l.94-2.06 2.06-.94-2.06-.94L8.5 2.5l-.94 2.06-2.06.94zm10 10l.94 2.06.94-2.06 2.06-.94-2.06-.94-.94-2.06-.94 2.06-2.06.94z\"/><path d=\"M17.41 7.96l-1.37-1.37c-.4-.4-.92-.59-1.43-.59-.52 0-1.04.2-1.43.59L10.3 9.45l-7.72 7.72c-.78.78-.78 2.05 0 2.83L4 21.41c.39.39.9.59 1.41.59.51 0 1.02-.2 1.41-.59l7.78-7.78 2.81-2.81c.8-.78.8-2.07 0-2.86zM5.41 20L4 18.59l7.72-7.72 1.47 1.35L5.41 20z\"/>\n",
              "  </svg>\n",
              "      </button>\n",
              "      \n",
              "  <style>\n",
              "    .colab-df-container {\n",
              "      display:flex;\n",
              "      flex-wrap:wrap;\n",
              "      gap: 12px;\n",
              "    }\n",
              "\n",
              "    .colab-df-convert {\n",
              "      background-color: #E8F0FE;\n",
              "      border: none;\n",
              "      border-radius: 50%;\n",
              "      cursor: pointer;\n",
              "      display: none;\n",
              "      fill: #1967D2;\n",
              "      height: 32px;\n",
              "      padding: 0 0 0 0;\n",
              "      width: 32px;\n",
              "    }\n",
              "\n",
              "    .colab-df-convert:hover {\n",
              "      background-color: #E2EBFA;\n",
              "      box-shadow: 0px 1px 2px rgba(60, 64, 67, 0.3), 0px 1px 3px 1px rgba(60, 64, 67, 0.15);\n",
              "      fill: #174EA6;\n",
              "    }\n",
              "\n",
              "    [theme=dark] .colab-df-convert {\n",
              "      background-color: #3B4455;\n",
              "      fill: #D2E3FC;\n",
              "    }\n",
              "\n",
              "    [theme=dark] .colab-df-convert:hover {\n",
              "      background-color: #434B5C;\n",
              "      box-shadow: 0px 1px 3px 1px rgba(0, 0, 0, 0.15);\n",
              "      filter: drop-shadow(0px 1px 2px rgba(0, 0, 0, 0.3));\n",
              "      fill: #FFFFFF;\n",
              "    }\n",
              "  </style>\n",
              "\n",
              "      <script>\n",
              "        const buttonEl =\n",
              "          document.querySelector('#df-54b646f9-888e-4dc9-9f64-5df2ef0ff0aa button.colab-df-convert');\n",
              "        buttonEl.style.display =\n",
              "          google.colab.kernel.accessAllowed ? 'block' : 'none';\n",
              "\n",
              "        async function convertToInteractive(key) {\n",
              "          const element = document.querySelector('#df-54b646f9-888e-4dc9-9f64-5df2ef0ff0aa');\n",
              "          const dataTable =\n",
              "            await google.colab.kernel.invokeFunction('convertToInteractive',\n",
              "                                                     [key], {});\n",
              "          if (!dataTable) return;\n",
              "\n",
              "          const docLinkHtml = 'Like what you see? Visit the ' +\n",
              "            '<a target=\"_blank\" href=https://colab.research.google.com/notebooks/data_table.ipynb>data table notebook</a>'\n",
              "            + ' to learn more about interactive tables.';\n",
              "          element.innerHTML = '';\n",
              "          dataTable['output_type'] = 'display_data';\n",
              "          await google.colab.output.renderOutput(dataTable, element);\n",
              "          const docLink = document.createElement('div');\n",
              "          docLink.innerHTML = docLinkHtml;\n",
              "          element.appendChild(docLink);\n",
              "        }\n",
              "      </script>\n",
              "    </div>\n",
              "  </div>\n",
              "  "
            ]
          },
          "metadata": {},
          "execution_count": 3
        }
      ]
    },
    {
      "cell_type": "code",
      "source": [
        "#2.Exploratory Data analysis\n",
        "df.info()"
      ],
      "metadata": {
        "id": "pPeA7T8u_2gL",
        "colab": {
          "base_uri": "https://localhost:8080/"
        },
        "outputId": "021d8271-abab-4ec7-ef9b-297f0d00caae"
      },
      "execution_count": 4,
      "outputs": [
        {
          "output_type": "stream",
          "name": "stdout",
          "text": [
            "<class 'pandas.core.frame.DataFrame'>\n",
            "RangeIndex: 303 entries, 0 to 302\n",
            "Data columns (total 15 columns):\n",
            " #   Column      Non-Null Count  Dtype  \n",
            "---  ------      --------------  -----  \n",
            " 0   Unnamed: 0  303 non-null    int64  \n",
            " 1   age         303 non-null    int64  \n",
            " 2   sex         303 non-null    int64  \n",
            " 3   cp          303 non-null    int64  \n",
            " 4   trestbps    303 non-null    int64  \n",
            " 5   chol        303 non-null    int64  \n",
            " 6   fbs         303 non-null    int64  \n",
            " 7   restecg     303 non-null    int64  \n",
            " 8   thalach     303 non-null    int64  \n",
            " 9   exang       303 non-null    int64  \n",
            " 10  oldpeak     303 non-null    float64\n",
            " 11  slope       303 non-null    int64  \n",
            " 12  ca          303 non-null    int64  \n",
            " 13  thal        303 non-null    int64  \n",
            " 14  target      303 non-null    int64  \n",
            "dtypes: float64(1), int64(14)\n",
            "memory usage: 35.6 KB\n"
          ]
        }
      ]
    },
    {
      "cell_type": "code",
      "source": [
        "df.shape"
      ],
      "metadata": {
        "colab": {
          "base_uri": "https://localhost:8080/"
        },
        "id": "8VbZypwOBvZ9",
        "outputId": "ffb0f927-76c2-41d7-b865-f7c115dd824a"
      },
      "execution_count": 5,
      "outputs": [
        {
          "output_type": "execute_result",
          "data": {
            "text/plain": [
              "(303, 15)"
            ]
          },
          "metadata": {},
          "execution_count": 5
        }
      ]
    },
    {
      "cell_type": "code",
      "source": [
        "df.size"
      ],
      "metadata": {
        "colab": {
          "base_uri": "https://localhost:8080/"
        },
        "id": "GXEZE78yCDEP",
        "outputId": "5f862cb3-4a97-48dd-e973-86734713ad37"
      },
      "execution_count": 7,
      "outputs": [
        {
          "output_type": "execute_result",
          "data": {
            "text/plain": [
              "4545"
            ]
          },
          "metadata": {},
          "execution_count": 7
        }
      ]
    },
    {
      "cell_type": "code",
      "source": [
        "df.isnull().sum()"
      ],
      "metadata": {
        "colab": {
          "base_uri": "https://localhost:8080/"
        },
        "id": "QcxL75H-CEq6",
        "outputId": "bf6ce993-e35e-40a2-9dda-c5806fcc4c2c"
      },
      "execution_count": 8,
      "outputs": [
        {
          "output_type": "execute_result",
          "data": {
            "text/plain": [
              "Unnamed: 0    0\n",
              "age           0\n",
              "sex           0\n",
              "cp            0\n",
              "trestbps      0\n",
              "chol          0\n",
              "fbs           0\n",
              "restecg       0\n",
              "thalach       0\n",
              "exang         0\n",
              "oldpeak       0\n",
              "slope         0\n",
              "ca            0\n",
              "thal          0\n",
              "target        0\n",
              "dtype: int64"
            ]
          },
          "metadata": {},
          "execution_count": 8
        }
      ]
    },
    {
      "cell_type": "code",
      "source": [
        "df.nunique()"
      ],
      "metadata": {
        "colab": {
          "base_uri": "https://localhost:8080/"
        },
        "id": "tlRdUU8sCK9h",
        "outputId": "166a4fb1-245b-4ec5-e768-6cfc9861d3c1"
      },
      "execution_count": 9,
      "outputs": [
        {
          "output_type": "execute_result",
          "data": {
            "text/plain": [
              "Unnamed: 0    303\n",
              "age            41\n",
              "sex             2\n",
              "cp              4\n",
              "trestbps       49\n",
              "chol          152\n",
              "fbs             2\n",
              "restecg         3\n",
              "thalach        91\n",
              "exang           2\n",
              "oldpeak        40\n",
              "slope           3\n",
              "ca              5\n",
              "thal            4\n",
              "target          2\n",
              "dtype: int64"
            ]
          },
          "metadata": {},
          "execution_count": 9
        }
      ]
    },
    {
      "cell_type": "code",
      "source": [
        "#visualization\n",
        "import seaborn as sns\n",
        "sns.distplot(df['age'])"
      ],
      "metadata": {
        "colab": {
          "base_uri": "https://localhost:8080/",
          "height": 351
        },
        "id": "b0akpEQKCQJu",
        "outputId": "5e928cf1-ffe4-445a-a4c1-fe03c0818914"
      },
      "execution_count": 10,
      "outputs": [
        {
          "output_type": "stream",
          "name": "stderr",
          "text": [
            "/usr/local/lib/python3.7/dist-packages/seaborn/distributions.py:2619: FutureWarning: `distplot` is a deprecated function and will be removed in a future version. Please adapt your code to use either `displot` (a figure-level function with similar flexibility) or `histplot` (an axes-level function for histograms).\n",
            "  warnings.warn(msg, FutureWarning)\n"
          ]
        },
        {
          "output_type": "execute_result",
          "data": {
            "text/plain": [
              "<matplotlib.axes._subplots.AxesSubplot at 0x7f5764f9d5d0>"
            ]
          },
          "metadata": {},
          "execution_count": 10
        },
        {
          "output_type": "display_data",
          "data": {
            "text/plain": [
              "<Figure size 432x288 with 1 Axes>"
            ],
            "image/png": "[encoded data removed]"
          },
          "metadata": {
            "needs_background": "light"
          }
        }
      ]
    },
    {
      "cell_type": "code",
      "source": [
        "df['age'].value_counts()"
      ],
      "metadata": {
        "colab": {
          "base_uri": "https://localhost:8080/"
        },
        "id": "IGC1U7wCErkd",
        "outputId": "73625b11-09c8-4cea-a381-60e4e79a8a19"
      },
      "execution_count": 12,
      "outputs": [
        {
          "output_type": "execute_result",
          "data": {
            "text/plain": [
              "58    19\n",
              "57    17\n",
              "54    16\n",
              "59    14\n",
              "52    13\n",
              "51    12\n",
              "62    11\n",
              "60    11\n",
              "44    11\n",
              "56    11\n",
              "64    10\n",
              "41    10\n",
              "63     9\n",
              "67     9\n",
              "65     8\n",
              "43     8\n",
              "45     8\n",
              "55     8\n",
              "42     8\n",
              "61     8\n",
              "53     8\n",
              "46     7\n",
              "48     7\n",
              "66     7\n",
              "50     7\n",
              "49     5\n",
              "47     5\n",
              "70     4\n",
              "39     4\n",
              "35     4\n",
              "68     4\n",
              "38     3\n",
              "71     3\n",
              "40     3\n",
              "69     3\n",
              "34     2\n",
              "37     2\n",
              "29     1\n",
              "74     1\n",
              "76     1\n",
              "77     1\n",
              "Name: age, dtype: int64"
            ]
          },
          "metadata": {},
          "execution_count": 12
        }
      ]
    },
    {
      "cell_type": "code",
      "source": [
        "import matplotlib.pyplot as plt\n",
        "f=plt.figure()\n",
        "f.set_figwidth(10)\n",
        "f.set_figheight(10)\n",
        "plt.plot()\n",
        "df['age'].value_counts().plot(kind = 'bar')\n",
        "plt.xticks(rotation = 'vertical')\n",
        "plt.show()\n"
      ],
      "metadata": {
        "colab": {
          "base_uri": "https://localhost:8080/",
          "height": 594
        },
        "id": "KlKdY2nLE-iX",
        "outputId": "8cd89b14-1ff6-4cfb-8725-48ec63185c01"
      },
      "execution_count": 24,
      "outputs": [
        {
          "output_type": "display_data",
          "data": {
            "text/plain": [
              "<Figure size 720x720 with 1 Axes>"
            ],
            "image/png": "[encoded data removed]"
          },
          "metadata": {
            "needs_background": "light"
          }
        }
      ]
    },
    {
      "cell_type": "code",
      "source": [
        "f=plt.figure()\n",
        "f.set_figwidth(10)\n",
        "f.set_figheight(10)\n",
        "plt.plot()\n",
        "sns.barplot(x = df['age'],y = df['sex'])\n",
        "plt.xticks(rotation = 'vertical')\n",
        "plt.show()\n"
      ],
      "metadata": {
        "colab": {
          "base_uri": "https://localhost:8080/",
          "height": 608
        },
        "id": "amCv-itoFUKj",
        "outputId": "e9e39e4b-c750-4f0d-f353-d5531345e61c"
      },
      "execution_count": 26,
      "outputs": [
        {
          "output_type": "display_data",
          "data": {
            "text/plain": [
              "<Figure size 720x720 with 1 Axes>"
            ],
            "image/png": "[encoded data removed]"
          },
          "metadata": {
            "needs_background": "light"
          }
        }
      ]
    },
    {
      "cell_type": "code",
      "source": [
        "df.groupby('age').size()"
      ],
      "metadata": {
        "colab": {
          "base_uri": "https://localhost:8080/"
        },
        "id": "6BNK-hlZJZ-D",
        "outputId": "d137df22-2ce7-49f0-f0b2-4a1e14862b78"
      },
      "execution_count": 29,
      "outputs": [
        {
          "output_type": "execute_result",
          "data": {
            "text/plain": [
              "age\n",
              "29     1\n",
              "34     2\n",
              "35     4\n",
              "37     2\n",
              "38     3\n",
              "39     4\n",
              "40     3\n",
              "41    10\n",
              "42     8\n",
              "43     8\n",
              "44    11\n",
              "45     8\n",
              "46     7\n",
              "47     5\n",
              "48     7\n",
              "49     5\n",
              "50     7\n",
              "51    12\n",
              "52    13\n",
              "53     8\n",
              "54    16\n",
              "55     8\n",
              "56    11\n",
              "57    17\n",
              "58    19\n",
              "59    14\n",
              "60    11\n",
              "61     8\n",
              "62    11\n",
              "63     9\n",
              "64    10\n",
              "65     8\n",
              "66     7\n",
              "67     9\n",
              "68     4\n",
              "69     3\n",
              "70     4\n",
              "71     3\n",
              "74     1\n",
              "76     1\n",
              "77     1\n",
              "dtype: int64"
            ]
          },
          "metadata": {},
          "execution_count": 29
        }
      ]
    },
    {
      "cell_type": "code",
      "source": [
        "df=df.drop(columns = 'Unnamed: 0')"
      ],
      "metadata": {
        "id": "uQGtIo-sJ_QG"
      },
      "execution_count": 30,
      "outputs": []
    },
    {
      "cell_type": "code",
      "source": [
        "df.info()"
      ],
      "metadata": {
        "colab": {
          "base_uri": "https://localhost:8080/"
        },
        "id": "oK5AAy1mKm6c",
        "outputId": "49f60377-be95-4bc5-8a7e-6abbdf35b23d"
      },
      "execution_count": 31,
      "outputs": [
        {
          "output_type": "stream",
          "name": "stdout",
          "text": [
            "<class 'pandas.core.frame.DataFrame'>\n",
            "RangeIndex: 303 entries, 0 to 302\n",
            "Data columns (total 14 columns):\n",
            " #   Column    Non-Null Count  Dtype  \n",
            "---  ------    --------------  -----  \n",
            " 0   age       303 non-null    int64  \n",
            " 1   sex       303 non-null    int64  \n",
            " 2   cp        303 non-null    int64  \n",
            " 3   trestbps  303 non-null    int64  \n",
            " 4   chol      303 non-null    int64  \n",
            " 5   fbs       303 non-null    int64  \n",
            " 6   restecg   303 non-null    int64  \n",
            " 7   thalach   303 non-null    int64  \n",
            " 8   exang     303 non-null    int64  \n",
            " 9   oldpeak   303 non-null    float64\n",
            " 10  slope     303 non-null    int64  \n",
            " 11  ca        303 non-null    int64  \n",
            " 12  thal      303 non-null    int64  \n",
            " 13  target    303 non-null    int64  \n",
            "dtypes: float64(1), int64(13)\n",
            "memory usage: 33.3 KB\n"
          ]
        }
      ]
    },
    {
      "cell_type": "code",
      "source": [
        "#3.Data Visualisation - creation of Graphs\n",
        "import matplotlib.pyplot as plt\n",
        "plt.plot(df['sex'],df['cp'])"
      ],
      "metadata": {
        "colab": {
          "base_uri": "https://localhost:8080/",
          "height": 282
        },
        "id": "Mwcs2qIlLiv6",
        "outputId": "7fa73f25-09ea-4ca8-efc7-256c50a45e8c"
      },
      "execution_count": 47,
      "outputs": [
        {
          "output_type": "execute_result",
          "data": {
            "text/plain": [
              "[<matplotlib.lines.Line2D at 0x7f575fda1150>]"
            ]
          },
          "metadata": {},
          "execution_count": 47
        },
        {
          "output_type": "display_data",
          "data": {
            "text/plain": [
              "<Figure size 432x288 with 1 Axes>"
            ],
            "image/png": "[encoded data removed]"
          },
          "metadata": {
            "needs_background": "light"
          }
        }
      ]
    },
    {
      "cell_type": "code",
      "source": [
        "plt.scatter(df['sex'],df['cp'])"
      ],
      "metadata": {
        "colab": {
          "base_uri": "https://localhost:8080/",
          "height": 282
        },
        "id": "5TDaKr8SM6Gi",
        "outputId": "fc12e672-df5c-4d93-ad71-6cac7bd75566"
      },
      "execution_count": 49,
      "outputs": [
        {
          "output_type": "execute_result",
          "data": {
            "text/plain": [
              "<matplotlib.collections.PathCollection at 0x7f575fcfcb10>"
            ]
          },
          "metadata": {},
          "execution_count": 49
        },
        {
          "output_type": "display_data",
          "data": {
            "text/plain": [
              "<Figure size 432x288 with 1 Axes>"
            ],
            "image/png": "[encoded data removed]"
          },
          "metadata": {
            "needs_background": "light"
          }
        }
      ]
    },
    {
      "cell_type": "code",
      "source": [
        "#input - age\n",
        "#output - sex\n",
        "#divide the data into  input(x) and output(y)\n",
        "x = df.iloc[:,0:1].values\n",
        "x"
      ],
      "metadata": {
        "colab": {
          "base_uri": "https://localhost:8080/"
        },
        "id": "FU928JEZOGzZ",
        "outputId": "f60b95ff-7561-49a1-d820-09026a50cb3c"
      },
      "execution_count": 50,
      "outputs": [
        {
          "output_type": "execute_result",
          "data": {
            "text/plain": [
              "array([[63],\n",
              "       [37],\n",
              "       [41],\n",
              "       [56],\n",
              "       [57],\n",
              "       [57],\n",
              "       [56],\n",
              "       [44],\n",
              "       [52],\n",
              "       [57],\n",
              "       [54],\n",
              "       [48],\n",
              "       [49],\n",
              "       [64],\n",
              "       [58],\n",
              "       [50],\n",
              "       [58],\n",
              "       [66],\n",
              "       [43],\n",
              "       [69],\n",
              "       [59],\n",
              "       [44],\n",
              "       [42],\n",
              "       [61],\n",
              "       [40],\n",
              "       [71],\n",
              "       [59],\n",
              "       [51],\n",
              "       [65],\n",
              "       [53],\n",
              "       [41],\n",
              "       [65],\n",
              "       [44],\n",
              "       [54],\n",
              "       [51],\n",
              "       [46],\n",
              "       [54],\n",
              "       [54],\n",
              "       [65],\n",
              "       [65],\n",
              "       [51],\n",
              "       [48],\n",
              "       [45],\n",
              "       [53],\n",
              "       [39],\n",
              "       [52],\n",
              "       [44],\n",
              "       [47],\n",
              "       [53],\n",
              "       [53],\n",
              "       [51],\n",
              "       [66],\n",
              "       [62],\n",
              "       [44],\n",
              "       [63],\n",
              "       [52],\n",
              "       [48],\n",
              "       [45],\n",
              "       [34],\n",
              "       [57],\n",
              "       [71],\n",
              "       [54],\n",
              "       [52],\n",
              "       [41],\n",
              "       [58],\n",
              "       [35],\n",
              "       [51],\n",
              "       [45],\n",
              "       [44],\n",
              "       [62],\n",
              "       [54],\n",
              "       [51],\n",
              "       [29],\n",
              "       [51],\n",
              "       [43],\n",
              "       [55],\n",
              "       [51],\n",
              "       [59],\n",
              "       [52],\n",
              "       [58],\n",
              "       [41],\n",
              "       [45],\n",
              "       [60],\n",
              "       [52],\n",
              "       [42],\n",
              "       [67],\n",
              "       [68],\n",
              "       [46],\n",
              "       [54],\n",
              "       [58],\n",
              "       [48],\n",
              "       [57],\n",
              "       [52],\n",
              "       [54],\n",
              "       [45],\n",
              "       [53],\n",
              "       [62],\n",
              "       [52],\n",
              "       [43],\n",
              "       [53],\n",
              "       [42],\n",
              "       [59],\n",
              "       [63],\n",
              "       [42],\n",
              "       [50],\n",
              "       [68],\n",
              "       [69],\n",
              "       [45],\n",
              "       [50],\n",
              "       [50],\n",
              "       [64],\n",
              "       [57],\n",
              "       [64],\n",
              "       [43],\n",
              "       [55],\n",
              "       [37],\n",
              "       [41],\n",
              "       [56],\n",
              "       [46],\n",
              "       [46],\n",
              "       [64],\n",
              "       [59],\n",
              "       [41],\n",
              "       [54],\n",
              "       [39],\n",
              "       [34],\n",
              "       [47],\n",
              "       [67],\n",
              "       [52],\n",
              "       [74],\n",
              "       [54],\n",
              "       [49],\n",
              "       [42],\n",
              "       [41],\n",
              "       [41],\n",
              "       [49],\n",
              "       [60],\n",
              "       [62],\n",
              "       [57],\n",
              "       [64],\n",
              "       [51],\n",
              "       [43],\n",
              "       [42],\n",
              "       [67],\n",
              "       [76],\n",
              "       [70],\n",
              "       [44],\n",
              "       [60],\n",
              "       [44],\n",
              "       [42],\n",
              "       [66],\n",
              "       [71],\n",
              "       [64],\n",
              "       [66],\n",
              "       [39],\n",
              "       [58],\n",
              "       [47],\n",
              "       [35],\n",
              "       [58],\n",
              "       [56],\n",
              "       [56],\n",
              "       [55],\n",
              "       [41],\n",
              "       [38],\n",
              "       [38],\n",
              "       [67],\n",
              "       [67],\n",
              "       [62],\n",
              "       [63],\n",
              "       [53],\n",
              "       [56],\n",
              "       [48],\n",
              "       [58],\n",
              "       [58],\n",
              "       [60],\n",
              "       [40],\n",
              "       [60],\n",
              "       [64],\n",
              "       [43],\n",
              "       [57],\n",
              "       [55],\n",
              "       [65],\n",
              "       [61],\n",
              "       [58],\n",
              "       [50],\n",
              "       [44],\n",
              "       [60],\n",
              "       [54],\n",
              "       [50],\n",
              "       [41],\n",
              "       [51],\n",
              "       [58],\n",
              "       [54],\n",
              "       [60],\n",
              "       [60],\n",
              "       [59],\n",
              "       [46],\n",
              "       [67],\n",
              "       [62],\n",
              "       [65],\n",
              "       [44],\n",
              "       [60],\n",
              "       [58],\n",
              "       [68],\n",
              "       [62],\n",
              "       [52],\n",
              "       [59],\n",
              "       [60],\n",
              "       [49],\n",
              "       [59],\n",
              "       [57],\n",
              "       [61],\n",
              "       [39],\n",
              "       [61],\n",
              "       [56],\n",
              "       [43],\n",
              "       [62],\n",
              "       [63],\n",
              "       [65],\n",
              "       [48],\n",
              "       [63],\n",
              "       [55],\n",
              "       [65],\n",
              "       [56],\n",
              "       [54],\n",
              "       [70],\n",
              "       [62],\n",
              "       [35],\n",
              "       [59],\n",
              "       [64],\n",
              "       [47],\n",
              "       [57],\n",
              "       [55],\n",
              "       [64],\n",
              "       [70],\n",
              "       [51],\n",
              "       [58],\n",
              "       [60],\n",
              "       [77],\n",
              "       [35],\n",
              "       [70],\n",
              "       [59],\n",
              "       [64],\n",
              "       [57],\n",
              "       [56],\n",
              "       [48],\n",
              "       [56],\n",
              "       [66],\n",
              "       [54],\n",
              "       [69],\n",
              "       [51],\n",
              "       [43],\n",
              "       [62],\n",
              "       [67],\n",
              "       [59],\n",
              "       [45],\n",
              "       [58],\n",
              "       [50],\n",
              "       [62],\n",
              "       [38],\n",
              "       [66],\n",
              "       [52],\n",
              "       [53],\n",
              "       [63],\n",
              "       [54],\n",
              "       [66],\n",
              "       [55],\n",
              "       [49],\n",
              "       [54],\n",
              "       [56],\n",
              "       [46],\n",
              "       [61],\n",
              "       [67],\n",
              "       [58],\n",
              "       [47],\n",
              "       [52],\n",
              "       [58],\n",
              "       [57],\n",
              "       [58],\n",
              "       [61],\n",
              "       [42],\n",
              "       [52],\n",
              "       [59],\n",
              "       [40],\n",
              "       [61],\n",
              "       [46],\n",
              "       [59],\n",
              "       [57],\n",
              "       [57],\n",
              "       [55],\n",
              "       [61],\n",
              "       [58],\n",
              "       [58],\n",
              "       [67],\n",
              "       [44],\n",
              "       [63],\n",
              "       [63],\n",
              "       [59],\n",
              "       [57],\n",
              "       [45],\n",
              "       [68],\n",
              "       [57],\n",
              "       [57]])"
            ]
          },
          "metadata": {},
          "execution_count": 50
        }
      ]
    },
    {
      "cell_type": "code",
      "source": [
        "y = df.iloc[:,1].values\n",
        "y"
      ],
      "metadata": {
        "colab": {
          "base_uri": "https://localhost:8080/"
        },
        "id": "vGibkCqKPhHr",
        "outputId": "511e57ef-60a7-4430-b1d5-cf234b27cca5"
      },
      "execution_count": 51,
      "outputs": [
        {
          "output_type": "execute_result",
          "data": {
            "text/plain": [
              "array([1, 1, 0, 1, 0, 1, 0, 1, 1, 1, 1, 0, 1, 1, 0, 0, 0, 0, 1, 0, 1, 1,\n",
              "       1, 1, 1, 0, 1, 1, 0, 1, 0, 1, 1, 1, 1, 0, 0, 1, 0, 0, 0, 1, 1, 0,\n",
              "       1, 1, 1, 1, 0, 0, 0, 1, 1, 0, 0, 1, 1, 1, 1, 0, 0, 1, 1, 1, 1, 0,\n",
              "       1, 0, 1, 0, 1, 1, 1, 1, 0, 0, 1, 1, 1, 1, 1, 1, 0, 1, 0, 0, 1, 1,\n",
              "       0, 0, 1, 1, 1, 0, 0, 1, 0, 1, 1, 1, 1, 1, 0, 1, 1, 0, 1, 0, 0, 0,\n",
              "       0, 1, 0, 1, 1, 0, 1, 1, 0, 0, 0, 1, 0, 0, 0, 0, 1, 0, 0, 0, 0, 0,\n",
              "       1, 1, 0, 0, 0, 1, 1, 1, 0, 1, 0, 0, 0, 1, 0, 0, 1, 1, 1, 0, 1, 0,\n",
              "       0, 0, 1, 1, 1, 1, 1, 0, 1, 1, 1, 1, 1, 0, 1, 1, 1, 1, 1, 1, 1, 1,\n",
              "       1, 1, 1, 1, 1, 0, 0, 1, 1, 1, 1, 1, 1, 1, 0, 1, 1, 1, 1, 1, 1, 1,\n",
              "       1, 1, 1, 1, 1, 1, 0, 1, 1, 0, 1, 1, 1, 1, 1, 0, 1, 0, 0, 1, 1, 1,\n",
              "       0, 1, 1, 0, 1, 1, 1, 1, 1, 1, 1, 1, 1, 1, 1, 1, 1, 1, 1, 1, 1, 0,\n",
              "       1, 1, 1, 1, 0, 1, 1, 1, 1, 1, 0, 1, 1, 1, 1, 1, 0, 1, 0, 1, 1, 0,\n",
              "       1, 1, 0, 1, 1, 1, 1, 1, 1, 1, 1, 1, 1, 1, 0, 1, 1, 1, 1, 1, 1, 1,\n",
              "       1, 1, 1, 0, 1, 1, 0, 1, 1, 1, 0, 1, 0, 1, 1, 1, 0])"
            ]
          },
          "metadata": {},
          "execution_count": 51
        }
      ]
    },
    {
      "cell_type": "code",
      "source": [
        "#we are not performing step 5 and step 6\n",
        "#7.Apply a classifer/Regressor / Clusterer - Linear Regression\n",
        "from sklearn.linear_model import LinearRegression\n",
        "model = LinearRegression()"
      ],
      "metadata": {
        "id": "8DHxWPYYPnt5"
      },
      "execution_count": 52,
      "outputs": []
    },
    {
      "cell_type": "code",
      "source": [
        "#8.Fit the model (Mapping of inputs with outputs)\n",
        "model.fit(x,y)  #we are plotting  values of x and yinside linear regression\n"
      ],
      "metadata": {
        "colab": {
          "base_uri": "https://localhost:8080/"
        },
        "id": "stNcERCnRtLV",
        "outputId": "719e0795-86da-4536-98da-e5155a218366"
      },
      "execution_count": 53,
      "outputs": [
        {
          "output_type": "execute_result",
          "data": {
            "text/plain": [
              "LinearRegression()"
            ]
          },
          "metadata": {},
          "execution_count": 53
        }
      ]
    },
    {
      "cell_type": "code",
      "source": [
        "#9.Predict the output\n",
        "y_pred =  model.predict(x) # using input we predict outpt\n",
        "y_pred"
      ],
      "metadata": {
        "colab": {
          "base_uri": "https://localhost:8080/"
        },
        "id": "3pyJOQHxSH1L",
        "outputId": "dadb3f10-343c-43cf-f6a0-20ef2a82bf69"
      },
      "execution_count": 55,
      "outputs": [
        {
          "output_type": "execute_result",
          "data": {
            "text/plain": [
              "array([0.63955637, 0.77089236, 0.75068682, 0.67491606, 0.66986467,\n",
              "       0.66986467, 0.67491606, 0.73553267, 0.69512159, 0.66986467,\n",
              "       0.68501882, 0.71532713, 0.71027575, 0.63450498, 0.66481329,\n",
              "       0.70522436, 0.66481329, 0.62440221, 0.74058405, 0.60924806,\n",
              "       0.6597619 , 0.73553267, 0.74563544, 0.64965913, 0.7557382 ,\n",
              "       0.59914529, 0.6597619 , 0.70017298, 0.6294536 , 0.69007021,\n",
              "       0.75068682, 0.6294536 , 0.73553267, 0.68501882, 0.70017298,\n",
              "       0.7254299 , 0.68501882, 0.68501882, 0.6294536 , 0.6294536 ,\n",
              "       0.70017298, 0.71532713, 0.73048128, 0.69007021, 0.76078959,\n",
              "       0.69512159, 0.73553267, 0.72037851, 0.69007021, 0.69007021,\n",
              "       0.70017298, 0.62440221, 0.64460775, 0.73553267, 0.63955637,\n",
              "       0.69512159, 0.71532713, 0.73048128, 0.78604651, 0.66986467,\n",
              "       0.59914529, 0.68501882, 0.69512159, 0.75068682, 0.66481329,\n",
              "       0.78099513, 0.70017298, 0.73048128, 0.73553267, 0.64460775,\n",
              "       0.68501882, 0.70017298, 0.81130343, 0.70017298, 0.74058405,\n",
              "       0.67996744, 0.70017298, 0.6597619 , 0.69512159, 0.66481329,\n",
              "       0.75068682, 0.73048128, 0.65471052, 0.69512159, 0.74563544,\n",
              "       0.61935083, 0.61429944, 0.7254299 , 0.68501882, 0.66481329,\n",
              "       0.71532713, 0.66986467, 0.69512159, 0.68501882, 0.73048128,\n",
              "       0.69007021, 0.64460775, 0.69512159, 0.74058405, 0.69007021,\n",
              "       0.74563544, 0.6597619 , 0.63955637, 0.74563544, 0.70522436,\n",
              "       0.61429944, 0.60924806, 0.73048128, 0.70522436, 0.70522436,\n",
              "       0.63450498, 0.66986467, 0.63450498, 0.74058405, 0.67996744,\n",
              "       0.77089236, 0.75068682, 0.67491606, 0.7254299 , 0.7254299 ,\n",
              "       0.63450498, 0.6597619 , 0.75068682, 0.68501882, 0.76078959,\n",
              "       0.78604651, 0.72037851, 0.61935083, 0.69512159, 0.58399114,\n",
              "       0.68501882, 0.71027575, 0.74563544, 0.75068682, 0.75068682,\n",
              "       0.71027575, 0.65471052, 0.64460775, 0.66986467, 0.63450498,\n",
              "       0.70017298, 0.74058405, 0.74563544, 0.61935083, 0.57388837,\n",
              "       0.60419668, 0.73553267, 0.65471052, 0.73553267, 0.74563544,\n",
              "       0.62440221, 0.59914529, 0.63450498, 0.62440221, 0.76078959,\n",
              "       0.66481329, 0.72037851, 0.78099513, 0.66481329, 0.67491606,\n",
              "       0.67491606, 0.67996744, 0.75068682, 0.76584097, 0.76584097,\n",
              "       0.61935083, 0.61935083, 0.64460775, 0.63955637, 0.69007021,\n",
              "       0.67491606, 0.71532713, 0.66481329, 0.66481329, 0.65471052,\n",
              "       0.7557382 , 0.65471052, 0.63450498, 0.74058405, 0.66986467,\n",
              "       0.67996744, 0.6294536 , 0.64965913, 0.66481329, 0.70522436,\n",
              "       0.73553267, 0.65471052, 0.68501882, 0.70522436, 0.75068682,\n",
              "       0.70017298, 0.66481329, 0.68501882, 0.65471052, 0.65471052,\n",
              "       0.6597619 , 0.7254299 , 0.61935083, 0.64460775, 0.6294536 ,\n",
              "       0.73553267, 0.65471052, 0.66481329, 0.61429944, 0.64460775,\n",
              "       0.69512159, 0.6597619 , 0.65471052, 0.71027575, 0.6597619 ,\n",
              "       0.66986467, 0.64965913, 0.76078959, 0.64965913, 0.67491606,\n",
              "       0.74058405, 0.64460775, 0.63955637, 0.6294536 , 0.71532713,\n",
              "       0.63955637, 0.67996744, 0.6294536 , 0.67491606, 0.68501882,\n",
              "       0.60419668, 0.64460775, 0.78099513, 0.6597619 , 0.63450498,\n",
              "       0.72037851, 0.66986467, 0.67996744, 0.63450498, 0.60419668,\n",
              "       0.70017298, 0.66481329, 0.65471052, 0.56883699, 0.78099513,\n",
              "       0.60419668, 0.6597619 , 0.63450498, 0.66986467, 0.67491606,\n",
              "       0.71532713, 0.67491606, 0.62440221, 0.68501882, 0.60924806,\n",
              "       0.70017298, 0.74058405, 0.64460775, 0.61935083, 0.6597619 ,\n",
              "       0.73048128, 0.66481329, 0.70522436, 0.64460775, 0.76584097,\n",
              "       0.62440221, 0.69512159, 0.69007021, 0.63955637, 0.68501882,\n",
              "       0.62440221, 0.67996744, 0.71027575, 0.68501882, 0.67491606,\n",
              "       0.7254299 , 0.64965913, 0.61935083, 0.66481329, 0.72037851,\n",
              "       0.69512159, 0.66481329, 0.66986467, 0.66481329, 0.64965913,\n",
              "       0.74563544, 0.69512159, 0.6597619 , 0.7557382 , 0.64965913,\n",
              "       0.7254299 , 0.6597619 , 0.66986467, 0.66986467, 0.67996744,\n",
              "       0.64965913, 0.66481329, 0.66481329, 0.61935083, 0.73553267,\n",
              "       0.63955637, 0.63955637, 0.6597619 , 0.66986467, 0.73048128,\n",
              "       0.61429944, 0.66986467, 0.66986467])"
            ]
          },
          "metadata": {},
          "execution_count": 55
        }
      ]
    },
    {
      "cell_type": "code",
      "source": [
        "y #actual outputs"
      ],
      "metadata": {
        "colab": {
          "base_uri": "https://localhost:8080/"
        },
        "id": "a_Svu8HaSV1V",
        "outputId": "d9808984-0035-4b03-f327-d32eac83d4c6"
      },
      "execution_count": 57,
      "outputs": [
        {
          "output_type": "execute_result",
          "data": {
            "text/plain": [
              "array([1, 1, 0, 1, 0, 1, 0, 1, 1, 1, 1, 0, 1, 1, 0, 0, 0, 0, 1, 0, 1, 1,\n",
              "       1, 1, 1, 0, 1, 1, 0, 1, 0, 1, 1, 1, 1, 0, 0, 1, 0, 0, 0, 1, 1, 0,\n",
              "       1, 1, 1, 1, 0, 0, 0, 1, 1, 0, 0, 1, 1, 1, 1, 0, 0, 1, 1, 1, 1, 0,\n",
              "       1, 0, 1, 0, 1, 1, 1, 1, 0, 0, 1, 1, 1, 1, 1, 1, 0, 1, 0, 0, 1, 1,\n",
              "       0, 0, 1, 1, 1, 0, 0, 1, 0, 1, 1, 1, 1, 1, 0, 1, 1, 0, 1, 0, 0, 0,\n",
              "       0, 1, 0, 1, 1, 0, 1, 1, 0, 0, 0, 1, 0, 0, 0, 0, 1, 0, 0, 0, 0, 0,\n",
              "       1, 1, 0, 0, 0, 1, 1, 1, 0, 1, 0, 0, 0, 1, 0, 0, 1, 1, 1, 0, 1, 0,\n",
              "       0, 0, 1, 1, 1, 1, 1, 0, 1, 1, 1, 1, 1, 0, 1, 1, 1, 1, 1, 1, 1, 1,\n",
              "       1, 1, 1, 1, 1, 0, 0, 1, 1, 1, 1, 1, 1, 1, 0, 1, 1, 1, 1, 1, 1, 1,\n",
              "       1, 1, 1, 1, 1, 1, 0, 1, 1, 0, 1, 1, 1, 1, 1, 0, 1, 0, 0, 1, 1, 1,\n",
              "       0, 1, 1, 0, 1, 1, 1, 1, 1, 1, 1, 1, 1, 1, 1, 1, 1, 1, 1, 1, 1, 0,\n",
              "       1, 1, 1, 1, 0, 1, 1, 1, 1, 1, 0, 1, 1, 1, 1, 1, 0, 1, 0, 1, 1, 0,\n",
              "       1, 1, 0, 1, 1, 1, 1, 1, 1, 1, 1, 1, 1, 1, 0, 1, 1, 1, 1, 1, 1, 1,\n",
              "       1, 1, 1, 0, 1, 1, 0, 1, 1, 1, 0, 1, 0, 1, 1, 1, 0])"
            ]
          },
          "metadata": {},
          "execution_count": 57
        }
      ]
    },
    {
      "cell_type": "code",
      "source": [
        "#Conclusion\n",
        "#we have to compare y and y_pred\n",
        "#this only means that my model is NOT Linear\n"
      ],
      "metadata": {
        "id": "PBLM8E_4SqBl"
      },
      "execution_count": 58,
      "outputs": []
    },
    {
      "cell_type": "code",
      "source": [
        "#Individual Prediction\n",
        "model.predict([[1]])"
      ],
      "metadata": {
        "colab": {
          "base_uri": "https://localhost:8080/"
        },
        "id": "TCGGnUO-TVKJ",
        "outputId": "2eacdb56-d512-4ff6-e8af-4a75f3857664"
      },
      "execution_count": 65,
      "outputs": [
        {
          "output_type": "execute_result",
          "data": {
            "text/plain": [
              "array([0.95274219])"
            ]
          },
          "metadata": {},
          "execution_count": 65
        }
      ]
    },
    {
      "cell_type": "code",
      "source": [
        "#Cross Verification Technique\n",
        "#y = mx+c #equation of a staright line\n",
        "m = model.coef_  # slope\n",
        "m"
      ],
      "metadata": {
        "colab": {
          "base_uri": "https://localhost:8080/"
        },
        "id": "pWzx4-F3UZcm",
        "outputId": "0b534024-8e18-4848-e0d1-b0dce2aaa436"
      },
      "execution_count": 63,
      "outputs": [
        {
          "output_type": "execute_result",
          "data": {
            "text/plain": [
              "array([-0.00505138])"
            ]
          },
          "metadata": {},
          "execution_count": 63
        }
      ]
    },
    {
      "cell_type": "code",
      "source": [
        "c = model.intercept_ #intercept/constant\n",
        "c"
      ],
      "metadata": {
        "colab": {
          "base_uri": "https://localhost:8080/"
        },
        "id": "A0V0mZv4U-AZ",
        "outputId": "4c5154dd-7ddc-42ba-e531-ee1ec4865a1d"
      },
      "execution_count": 64,
      "outputs": [
        {
          "output_type": "execute_result",
          "data": {
            "text/plain": [
              "0.9577935756916687"
            ]
          },
          "metadata": {},
          "execution_count": 64
        }
      ]
    },
    {
      "cell_type": "code",
      "source": [
        "#y = mx + c , x= 1\n",
        "m * 1 + c"
      ],
      "metadata": {
        "colab": {
          "base_uri": "https://localhost:8080/"
        },
        "id": "bD0okLmFVRIl",
        "outputId": "c356be90-4f88-4c9a-fe55-c718cf10db8c"
      },
      "execution_count": 68,
      "outputs": [
        {
          "output_type": "execute_result",
          "data": {
            "text/plain": [
              "array([0.95274219])"
            ]
          },
          "metadata": {},
          "execution_count": 68
        }
      ]
    },
    {
      "cell_type": "code",
      "source": [
        "#visualisation for Best fit line\n",
        "plt.scatter(x,y)\n",
        "plt.plot(x,y_pred, c = 'red')\n",
        "plt.title('BEST FIT LINE')"
      ],
      "metadata": {
        "colab": {
          "base_uri": "https://localhost:8080/",
          "height": 298
        },
        "id": "VvzAY2HxWGtz",
        "outputId": "735e86ec-ec08-4941-be08-9a8d517a8dc9"
      },
      "execution_count": 70,
      "outputs": [
        {
          "output_type": "execute_result",
          "data": {
            "text/plain": [
              "Text(0.5, 1.0, 'BEST FIT LINE')"
            ]
          },
          "metadata": {},
          "execution_count": 70
        },
        {
          "output_type": "display_data",
          "data": {
            "text/plain": [
              "<Figure size 432x288 with 1 Axes>"
            ],
            "image/png": "[encoded data removed]"
          },
          "metadata": {
            "needs_background": "light"
          }
        }
      ]
    },
    {
      "cell_type": "code",
      "source": [],
      "metadata": {
        "id": "JsdgnRHVXCGt"
      },
      "execution_count": null,
      "outputs": []
    }
  ]
}